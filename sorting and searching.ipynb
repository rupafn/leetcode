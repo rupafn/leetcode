{
 "cells": [
  {
   "cell_type": "markdown",
   "metadata": {},
   "source": [
    "# insertion sort"
   ]
  },
  {
   "cell_type": "code",
   "execution_count": 97,
   "metadata": {},
   "outputs": [],
   "source": [
    "arr = [7,8,5,2,4,6,3]"
   ]
  },
  {
   "cell_type": "code",
   "execution_count": 39,
   "metadata": {},
   "outputs": [],
   "source": [
    "x = 0"
   ]
  },
  {
   "cell_type": "code",
   "execution_count": 75,
   "metadata": {},
   "outputs": [
    {
     "data": {
      "text/plain": [
       "[22, 33, 1, 0, 12, 8, 2, 99, 3, 54, 4]"
      ]
     },
     "execution_count": 75,
     "metadata": {},
     "output_type": "execute_result"
    }
   ],
   "source": [
    "\n",
    "arr"
   ]
  },
  {
   "cell_type": "code",
   "execution_count": 98,
   "metadata": {},
   "outputs": [],
   "source": [
    "for i in range(1,len(arr)):\n",
    "    ind = i\n",
    "    x = arr[ind]\n",
    "    while(1):\n",
    "    #     if ind is the last\n",
    "        if(ind == i):\n",
    "            left = arr[ind-1]\n",
    "            if(x<left):\n",
    "    #             swap\n",
    "                tmp = arr[ind-1]\n",
    "                arr[ind-1] = x\n",
    "                arr[ind] = tmp\n",
    "                ind = ind-1\n",
    "            else:\n",
    "                break\n",
    "\n",
    "        elif (ind==0):\n",
    "            break\n",
    "        else:\n",
    "\n",
    "            right = arr[ind+1]\n",
    "            left = arr[ind-1]\n",
    "\n",
    "        #     check if x is less than right and more than left\n",
    "            if(x<=right and x>=left):\n",
    "                break\n",
    "            else:\n",
    "                if(x<left):\n",
    "                    tmp = arr[ind-1]\n",
    "                    arr[ind-1] = x\n",
    "                    arr[ind] = tmp\n",
    "                    ind = ind-1\n",
    "                elif(x>right):\n",
    "                    tmp = arr[ind+1]\n",
    "                    arr[ind+1] = x\n",
    "                    arr[ind] = tmp\n",
    "                    ind = ind+1\n",
    "#     break\n",
    "    "
   ]
  },
  {
   "cell_type": "code",
   "execution_count": 99,
   "metadata": {},
   "outputs": [
    {
     "data": {
      "text/plain": [
       "[2, 3, 4, 5, 6, 7, 8]"
      ]
     },
     "execution_count": 99,
     "metadata": {},
     "output_type": "execute_result"
    }
   ],
   "source": [
    "arr"
   ]
  },
  {
   "cell_type": "markdown",
   "metadata": {},
   "source": [
    "# Fibonacci"
   ]
  },
  {
   "cell_type": "code",
   "execution_count": 109,
   "metadata": {},
   "outputs": [],
   "source": [
    "\n",
    "def fib(n):\n",
    "    if(n<0):\n",
    "        return 'wrong'\n",
    "    if (n==0):\n",
    "        return 0\n",
    "    if n==1:\n",
    "        return 1\n",
    "   \n",
    "    return fib(n-1) + fib(n-2)"
   ]
  },
  {
   "cell_type": "code",
   "execution_count": 116,
   "metadata": {},
   "outputs": [],
   "source": [
    "mem = [0 for i in range(0,50000)]\n",
    "# print(fib(100))\n",
    "mem[1] = 1"
   ]
  },
  {
   "cell_type": "code",
   "execution_count": 118,
   "metadata": {},
   "outputs": [
    {
     "data": {
      "text/plain": [
       "144"
      ]
     },
     "execution_count": 118,
     "metadata": {},
     "output_type": "execute_result"
    }
   ],
   "source": [
    "fib(12)"
   ]
  },
  {
   "cell_type": "markdown",
   "metadata": {},
   "source": [
    "# Binary search"
   ]
  },
  {
   "cell_type": "code",
   "execution_count": 162,
   "metadata": {},
   "outputs": [],
   "source": [
    "arr = [-1,0,1,1,3,4,5,6,8,9,10,10,11,20,100]"
   ]
  },
  {
   "cell_type": "code",
   "execution_count": 163,
   "metadata": {},
   "outputs": [
    {
     "data": {
      "text/plain": [
       "7"
      ]
     },
     "execution_count": 163,
     "metadata": {},
     "output_type": "execute_result"
    }
   ],
   "source": [
    "mid = int(len(arr)/2)\n",
    "target = 4\n",
    "sInd = 0\n",
    "endInd = len(arr)-1\n",
    "mid"
   ]
  },
  {
   "cell_type": "code",
   "execution_count": 160,
   "metadata": {},
   "outputs": [
    {
     "name": "stdout",
     "output_type": "stream",
     "text": [
      "Target found at index 5\n"
     ]
    }
   ],
   "source": [
    "while(1):\n",
    "    "
   ]
  },
  {
   "cell_type": "code",
   "execution_count": 161,
   "metadata": {},
   "outputs": [],
   "source": [
    "def binarySearch(arr, mid, target, sInd, endInd):\n",
    "    if(arr[mid] == target):\n",
    "        print('Target found at index {}'.format(mid))\n",
    "        return\n",
    "    if(arr[mid] > target):\n",
    "        endInd = mid - 1\n",
    "        mid = int((endInd-sInd)/2)\n",
    "    elif(arr[mid] < target):\n",
    "        sInd = mid+1\n",
    "        mid = sInd + int((endInd - sInd)/2)\n",
    "    return binarySearch(arr, mid, target, sInd, endInd)"
   ]
  },
  {
   "cell_type": "code",
   "execution_count": 164,
   "metadata": {},
   "outputs": [
    {
     "name": "stdout",
     "output_type": "stream",
     "text": [
      "Target found at index 5\n"
     ]
    }
   ],
   "source": [
    "binarySearch(arr, mid, target, sInd, endInd)"
   ]
  },
  {
   "cell_type": "code",
   "execution_count": 167,
   "metadata": {},
   "outputs": [
    {
     "data": {
      "text/plain": [
       "4"
      ]
     },
     "execution_count": 167,
     "metadata": {},
     "output_type": "execute_result"
    }
   ],
   "source": [
    "9//2\n"
   ]
  },
  {
   "cell_type": "markdown",
   "metadata": {},
   "source": [
    "# Merge sort"
   ]
  },
  {
   "cell_type": "code",
   "execution_count": 18,
   "metadata": {},
   "outputs": [],
   "source": [
    "arr = [7,8,5,2,4,6,3,22,98,34,6,9,13,78]\n",
    "# arr = [1,2,3,4,5,6,7,8,9]"
   ]
  },
  {
   "cell_type": "code",
   "execution_count": 19,
   "metadata": {},
   "outputs": [],
   "source": [
    "\n",
    "\n",
    "def merge(lb,mid,rb):\n",
    "    \n",
    "    left = arr[lb:mid]\n",
    "    right = arr[mid:rb]\n",
    "    k = lb\n",
    "    i = 0\n",
    "    j = 0\n",
    "    \n",
    "    while i<len(left) and j<len(right):\n",
    "        if(left[i] <= right[j]):\n",
    "            arr[k] = left[i]\n",
    "            i = i+1\n",
    "        else:\n",
    "            arr[k] = right[j]\n",
    "            j = j+1\n",
    "        \n",
    "        k = k+1\n",
    "#     add remaining elements\n",
    "    while i<len(left):\n",
    "        arr[k] = left[i]\n",
    "        i+=1\n",
    "        k+=1\n",
    "    while j<len(right):\n",
    "        arr[k] = right[j]\n",
    "        j+=1\n",
    "        k+=1   \n",
    "\n",
    "\n",
    "def divideIntoTwo(arr, lb,ub):\n",
    "    \n",
    "#     if(lb>=ub):\n",
    "#         return\n",
    "    if(len(arr[lb:ub])==1):\n",
    "#         print(arr[lb:ub])\n",
    "        return\n",
    "\n",
    "    mid = (lb+ub)//2\n",
    "    print(arr[lb:ub])\n",
    "  \n",
    "#     left\n",
    "    divideIntoTwo(arr,lb,mid)\n",
    "#     right\n",
    "    divideIntoTwo(arr,mid,ub)\n",
    "    merge(lb,mid,ub)\n",
    "    \n",
    "    "
   ]
  },
  {
   "cell_type": "code",
   "execution_count": 170,
   "metadata": {},
   "outputs": [
    {
     "data": {
      "text/plain": [
       "3"
      ]
     },
     "execution_count": 170,
     "metadata": {},
     "output_type": "execute_result"
    }
   ],
   "source": [
    "len(arr)//2\n"
   ]
  },
  {
   "cell_type": "code",
   "execution_count": 20,
   "metadata": {},
   "outputs": [
    {
     "name": "stdout",
     "output_type": "stream",
     "text": [
      "[7, 8, 5, 2, 4, 6, 3, 22, 98, 34, 6, 9, 13, 78]\n",
      "[22, 98, 34, 6, 9, 13, 78]\n",
      "[6, 9, 13, 78]\n",
      "[13, 78]\n",
      "None\n"
     ]
    }
   ],
   "source": [
    "print(divideIntoTwo(arr,0,len(arr)))"
   ]
  },
  {
   "cell_type": "code",
   "execution_count": 21,
   "metadata": {},
   "outputs": [
    {
     "data": {
      "text/plain": [
       "[6, 7, 8, 5, 2, 4, 6, 3, 9, 13, 22, 78, 98, 34]"
      ]
     },
     "execution_count": 21,
     "metadata": {},
     "output_type": "execute_result"
    }
   ],
   "source": [
    "arr"
   ]
  },
  {
   "cell_type": "code",
   "execution_count": 274,
   "metadata": {},
   "outputs": [
    {
     "data": {
      "text/plain": [
       "3"
      ]
     },
     "execution_count": 274,
     "metadata": {},
     "output_type": "execute_result"
    }
   ],
   "source": [
    "7//2"
   ]
  },
  {
   "cell_type": "markdown",
   "metadata": {},
   "source": [
    "# QuickSort"
   ]
  },
  {
   "cell_type": "code",
   "execution_count": 124,
   "metadata": {},
   "outputs": [],
   "source": [
    "arr = [7,8,5,2,4,6,3,22,98,34,6,9,13,78]\n"
   ]
  },
  {
   "cell_type": "code",
   "execution_count": 125,
   "metadata": {},
   "outputs": [],
   "source": [
    "def merge(left,right):\n",
    "    arr = left+right\n",
    "\n",
    "def quicSort(arr):\n",
    "    if(len(arr)<=1):\n",
    "        return arr\n",
    "    pivot = arr[0]\n",
    "\n",
    "    i = 0\n",
    "    j = len(arr)-1\n",
    "    \n",
    "    while(i<j):\n",
    "        \n",
    "        if(arr[i]<= pivot):\n",
    "            \n",
    "            i = i+1\n",
    "        if(arr[j]>= pivot):\n",
    "            j = j-1\n",
    "        else:\n",
    "#             exchange\n",
    "            tmp = arr[i]\n",
    "            arr[i] = arr[j]\n",
    "            arr[j] = tmp\n",
    "            \n",
    "#         print('i: ',i,'j:',j)\n",
    "        if(i==j ):\n",
    "            j-=1\n",
    "            print('kkkk',j)\n",
    "            tmp = arr[j]\n",
    "            arr[j] = pivot\n",
    "            arr[0] = tmp\n",
    "      \n",
    "    quicSort(arr[0:j])\n",
    "    quicSort(arr[j+1:])\n",
    "    merge(arr[0:j],arr[j+1:])"
   ]
  },
  {
   "cell_type": "code",
   "execution_count": 126,
   "metadata": {},
   "outputs": [
    {
     "name": "stdout",
     "output_type": "stream",
     "text": [
      "kkkk 5\n",
      "kkkk 2\n",
      "kkkk 0\n",
      "kkkk 0\n",
      "kkkk 2\n",
      "kkkk 0\n",
      "kkkk 0\n",
      "kkkk 0\n"
     ]
    }
   ],
   "source": [
    "quicSort(arr)"
   ]
  },
  {
   "cell_type": "code",
   "execution_count": 127,
   "metadata": {},
   "outputs": [
    {
     "data": {
      "text/plain": [
       "[6, 6, 5, 2, 4, 7, 3, 22, 98, 34, 8, 9, 13, 78]"
      ]
     },
     "execution_count": 127,
     "metadata": {},
     "output_type": "execute_result"
    }
   ],
   "source": [
    "arr"
   ]
  },
  {
   "cell_type": "code",
   "execution_count": null,
   "metadata": {},
   "outputs": [],
   "source": []
  }
 ],
 "metadata": {
  "kernelspec": {
   "display_name": "Python 3",
   "language": "python",
   "name": "python3"
  },
  "language_info": {
   "codemirror_mode": {
    "name": "ipython",
    "version": 3
   },
   "file_extension": ".py",
   "mimetype": "text/x-python",
   "name": "python",
   "nbconvert_exporter": "python",
   "pygments_lexer": "ipython3",
   "version": "3.7.6"
  }
 },
 "nbformat": 4,
 "nbformat_minor": 4
}
